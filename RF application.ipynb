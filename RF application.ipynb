{
 "cells": [
  {
   "cell_type": "code",
   "execution_count": 160,
   "id": "677b3d90-0291-4b29-8c94-06dc36755813",
   "metadata": {},
   "outputs": [],
   "source": [
    "import numpy as np\n",
    "import pandas as pd \n",
    "from collections import Counter\n",
    "from sklearn.model_selection import train_test_split\n",
    "from sklearn.metrics import accuracy_score\n",
    "\n",
    "dt = pd.read_excel(r\"C:\\Users\\utente\\OneDrive\\Desktop\\machine learning\\materiale esame\\default of credit card clients.xls\",index_col=0, header=1)"
   ]
  },
  {
   "cell_type": "code",
   "execution_count": null,
   "id": "83fd918d-9341-46b5-bcf4-91235be1d627",
   "metadata": {},
   "outputs": [],
   "source": []
  },
  {
   "cell_type": "code",
   "execution_count": null,
   "id": "31bb3b27-e32c-4013-8bb6-37e8a2ffef8b",
   "metadata": {},
   "outputs": [],
   "source": []
  },
  {
   "cell_type": "code",
   "execution_count": 2,
   "id": "a366853a-6e78-479e-b472-81e9dcf66cf1",
   "metadata": {},
   "outputs": [
    {
     "name": "stdout",
     "output_type": "stream",
     "text": [
      "Training Features Shape: (24000, 23)\n",
      "Training Labels Shape: (24000,)\n",
      "Testing Features Shape: (6000, 23)\n",
      "Testing Labels Shape: (6000,)\n"
     ]
    }
   ],
   "source": [
    "seed=589667\n",
    "Feat=dt.drop(['default payment next month'], axis=1)\n",
    "Tar=dt['default payment next month']\n",
    "X=Feat.to_numpy()\n",
    "Y=Tar.to_numpy()\n",
    "X_train, X_test, y_train, y_test = train_test_split(X, Y, test_size = 0.20, random_state = seed)\n",
    "y_train=y_train.astype('int')\n",
    "y_test=y_test.astype('int')\n",
    "print('Training Features Shape:', X_train.shape)\n",
    "print('Training Labels Shape:', y_train.shape)\n",
    "print('Testing Features Shape:', X_test.shape)\n",
    "print('Testing Labels Shape:',  y_test.shape)"
   ]
  },
  {
   "cell_type": "code",
   "execution_count": null,
   "id": "3c272ee1-23f4-48e7-888b-1ba3938545fd",
   "metadata": {},
   "outputs": [],
   "source": []
  },
  {
   "cell_type": "code",
   "execution_count": 33,
   "id": "7563a492-4d0a-493e-a251-3a2570d4fcd4",
   "metadata": {},
   "outputs": [],
   "source": [
    "class Node:\n",
    "    def __init__(self, feature=None, threshold=None, data_left=None, data_right=None, gain=None, value=None):\n",
    "        self.feature=feature\n",
    "        self.threshold=threshold\n",
    "        self.data_left=data_left\n",
    "        self.data_right=data_right\n",
    "        self.gain=gain\n",
    "        self.value=value"
   ]
  },
  {
   "cell_type": "code",
   "execution_count": null,
   "id": "33df1b7f-38c6-4253-a8c9-d09a8474bb54",
   "metadata": {},
   "outputs": [],
   "source": [
    "class DecisionTree:\n",
    "\n",
    "    def __init__(self, min_samples_split=2, max_depth=5):\n",
    "        self.min_samples_split = min_samples_split\n",
    "        self.max_depth = max_depth\n",
    "        self.root = None\n",
    "        \n",
    "    @staticmethod\n",
    "    def _entropy(s):\n",
    "\n",
    "        counts = np.bincount(np.array(s, dtype=np.int64))\n",
    "        percentages = counts / len(s)\n",
    "        \n",
    "        entropy = 0\n",
    "        for pct in percentages:\n",
    "            if pct > 0:\n",
    "                entropy += pct * np.log2(pct)\n",
    "        return -entropy\n",
    "    \n",
    "    def _information_gain(self, parent, left_child, right_child):\n",
    "        num_left = len(left_child) / len(parent)\n",
    "        num_right = len(right_child) / len(parent)\n",
    "        \n",
    "        # One-liner which implements the previously discussed formula\n",
    "        return self._entropy(parent) - (num_left * self._entropy(left_child) + num_right * self._entropy(right_child))\n",
    "    \n",
    "    def _best_split(self, X, y):\n",
    "        best_split = {}\n",
    "        best_info_gain = -1\n",
    "        n_rows, n_cols = X.shape\n",
    "        \n",
    "        for f_idx in range(n_cols):\n",
    "            X_curr = X[:, f_idx]\n",
    "            \n",
    "            for threshold in np.unique(X_curr):\n",
    "                df = np.concatenate((X, y.reshape(1, -1).T), axis=1)\n",
    "                df_left = np.array([row for row in df if row[f_idx] <= threshold])\n",
    "                df_right = np.array([row for row in df if row[f_idx] > threshold])\n",
    "                \n",
    "                if len(df_left) > 0 and len(df_right) > 0:\n",
    "\n",
    "                    y = df[:, -1]\n",
    "                    y_left = df_left[:, -1]\n",
    "                    y_right = df_right[:, -1]\n",
    "\n",
    "                    gain = self._information_gain(y, y_left, y_right)\n",
    "                    if gain > best_info_gain:\n",
    "                        best_split = {\n",
    "                            'feature_index': f_idx,\n",
    "                            'threshold': threshold,\n",
    "                            'df_left': df_left,\n",
    "                            'df_right': df_right,\n",
    "                            'gain': gain\n",
    "                        }\n",
    "                        best_info_gain = gain\n",
    "        return best_split\n",
    "    \n",
    "    def _build(self, X, y, depth=0):\n",
    "        n_rows, n_cols = X.shape\n",
    "        \n",
    "        if n_rows >= self.min_samples_split and depth <= self.max_depth:\n",
    "            best = self._best_split(X, y)\n",
    "            if best['gain'] > 0:\n",
    "                left = self._build(\n",
    "                    X=best['df_left'][:, :-1], \n",
    "                    y=best['df_left'][:, -1], \n",
    "                    depth=depth + 1\n",
    "                )\n",
    "                right = self._build(\n",
    "                    X=best['df_right'][:, :-1], \n",
    "                    y=best['df_right'][:, -1], \n",
    "                    depth=depth + 1\n",
    "                ) \n",
    "                print('nodo ok')\n",
    "                return Node(\n",
    "                    feature=best['feature_index'], \n",
    "                    threshold=best['threshold'], \n",
    "                    data_left=left, \n",
    "                    data_right=right, \n",
    "                    gain=best['gain']\n",
    "                )\n",
    "        return Node(\n",
    "            value=Counter(y).most_common(1)[0][0]\n",
    "        )\n",
    "    \n",
    "    def fit(self, X, y):\n",
    "        self.root = self._build(X, y)\n",
    "        \n",
    "    def _predict(self, x, tree):\n",
    "\n",
    "        if tree.value != None:\n",
    "            return tree.value\n",
    "        feature_value = x[tree.feature]\n",
    "        \n",
    "        if feature_value <= tree.threshold:\n",
    "            return self._predict(x=x, tree=tree.data_left)\n",
    "        \n",
    "        if feature_value > tree.threshold:\n",
    "            return self._predict(x=x, tree=tree.data_right)\n",
    "        \n",
    "    def predict(self, X):\n",
    "        return [self._predict(x, self.root) for x in X]"
   ]
  },
  {
   "cell_type": "code",
   "execution_count": 195,
   "id": "0b642350-d7ac-4b43-bd8e-afc64992cdc8",
   "metadata": {},
   "outputs": [],
   "source": [
    "class RandomForest:\n",
    "    \n",
    "    def __init__(self, num_trees=5, min_samples_split=2, max_depth=5):\n",
    "        self.num_trees = num_trees\n",
    "        self.min_samples_split = min_samples_split\n",
    "        self.max_depth = max_depth\n",
    "        self.decision_trees = []\n",
    "        \n",
    "    @staticmethod\n",
    "    def _sample(X, y):\n",
    "        \n",
    "        n_rows, n_cols = X.shape\n",
    "        samples_e = np.random.choice(a=n_rows, size=round(0.8*n_rows), replace=True)\n",
    "        samples_f = np.random.choice(a=n_cols, size=round(np.sqrt(n_cols)), replace=False)\n",
    "        return X[samples_e, :][:,samples_f], y[samples_e]\n",
    "        \n",
    "    def fit(self, X, y):\n",
    "        \n",
    "        if len(self.decision_trees) > 0:\n",
    "            self.decision_trees = []\n",
    "            \n",
    "        num_built = 0\n",
    "        while num_built < self.num_trees:\n",
    "            try:\n",
    "                clf = DecisionTree(\n",
    "                    min_samples_split=self.min_samples_split,\n",
    "                    max_depth=self.max_depth\n",
    "                )\n",
    "                _X, _y = self._sample(X, y)\n",
    "                clf.fit(_X, _y)\n",
    "                self.decision_trees.append(clf)\n",
    "                print('albero ok')\n",
    "                num_built += 1\n",
    "            except Exception as e:\n",
    "                continue\n",
    "    \n",
    "    def predict(self, X):\n",
    "        y = []\n",
    "        for tree in self.decision_trees:\n",
    "            y.append(tree.predict(X))\n",
    "        y = np.swapaxes(a=y, axis1=0, axis2=1)\n",
    "        predictions = []\n",
    "        for preds in y:\n",
    "            counter = Counter(preds)\n",
    "            predictions.append(counter.most_common(1)[0][0])\n",
    "        return predictions\n"
   ]
  },
  {
   "cell_type": "code",
   "execution_count": 199,
   "id": "8f476346-14e6-4266-86dc-420aac6238ad",
   "metadata": {},
   "outputs": [
    {
     "name": "stdout",
     "output_type": "stream",
     "text": [
      "albero ok\n",
      "albero ok\n",
      "albero ok\n",
      "albero ok\n",
      "albero ok\n"
     ]
    }
   ],
   "source": [
    "forest=RandomForest()\n",
    "forest.fit(X_train, y_train)"
   ]
  },
  {
   "cell_type": "code",
   "execution_count": 201,
   "id": "484630da-3592-4932-9c42-b1ee8020f095",
   "metadata": {},
   "outputs": [
    {
     "data": {
      "text/plain": [
       "0.7786666666666666"
      ]
     },
     "execution_count": 201,
     "metadata": {},
     "output_type": "execute_result"
    }
   ],
   "source": [
    "preds=forest.predict(X_test)\n",
    "accuracy_score(y_test, preds)"
   ]
  },
  {
   "cell_type": "code",
   "execution_count": 23,
   "id": "9797f2bc-bed2-40d1-ba7d-f3b86ff20e9a",
   "metadata": {},
   "outputs": [],
   "source": [
    "from sklearn.datasets import load_iris\n",
    "\n",
    "iris = load_iris()\n",
    "Xir = iris['data']\n",
    "yir = iris['target']\n",
    "X_train_ir, X_test_ir, y_train_ir, y_test_ir = train_test_split(Xir, yir, test_size=0.2, random_state=42)"
   ]
  },
  {
   "cell_type": "code",
   "execution_count": 51,
   "id": "7ad9b11a-b584-4907-aadf-0badd1b56be2",
   "metadata": {},
   "outputs": [
    {
     "name": "stdout",
     "output_type": "stream",
     "text": [
      "150\n"
     ]
    }
   ],
   "source": [
    "print(len(iris['data']))"
   ]
  },
  {
   "cell_type": "code",
   "execution_count": 197,
   "id": "6e221d9a-ca0b-4399-8fb7-5a8157dc0e68",
   "metadata": {
    "tags": []
   },
   "outputs": [
    {
     "name": "stdout",
     "output_type": "stream",
     "text": [
      "albero ok\n",
      "albero ok\n",
      "albero ok\n",
      "albero ok\n",
      "albero ok\n"
     ]
    }
   ],
   "source": [
    "forest2=RandomForest()\n",
    "forest2.fit(X_train_ir, y_train_ir)\n",
    "preds=forest2.predict(X_test_ir)"
   ]
  },
  {
   "cell_type": "code",
   "execution_count": 198,
   "id": "16b26044-8e8e-4582-9d1f-1218b66d0ffa",
   "metadata": {},
   "outputs": [
    {
     "data": {
      "text/plain": [
       "0.36666666666666664"
      ]
     },
     "execution_count": 198,
     "metadata": {},
     "output_type": "execute_result"
    }
   ],
   "source": [
    "accuracy_score(y_test_ir, preds)"
   ]
  },
  {
   "cell_type": "code",
   "execution_count": null,
   "id": "26b38529-1ca8-4375-a5c7-618f86d118f9",
   "metadata": {},
   "outputs": [],
   "source": []
  },
  {
   "cell_type": "code",
   "execution_count": null,
   "id": "db6a0dc7-2ecc-4126-af5a-747ce0ac7256",
   "metadata": {},
   "outputs": [],
   "source": []
  }
 ],
 "metadata": {
  "kernelspec": {
   "display_name": "Python 3 (ipykernel)",
   "language": "python",
   "name": "python3"
  },
  "language_info": {
   "codemirror_mode": {
    "name": "ipython",
    "version": 3
   },
   "file_extension": ".py",
   "mimetype": "text/x-python",
   "name": "python",
   "nbconvert_exporter": "python",
   "pygments_lexer": "ipython3",
   "version": "3.9.1"
  }
 },
 "nbformat": 4,
 "nbformat_minor": 5
}
